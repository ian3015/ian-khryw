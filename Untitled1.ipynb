{
  "nbformat": 4,
  "nbformat_minor": 0,
  "metadata": {
    "colab": {
      "provenance": [],
      "authorship_tag": "ABX9TyP58gSgq7vZ5W9YaRtFRCLf",
      "include_colab_link": true
    },
    "kernelspec": {
      "name": "python3",
      "display_name": "Python 3"
    },
    "language_info": {
      "name": "python"
    }
  },
  "cells": [
    {
      "cell_type": "markdown",
      "metadata": {
        "id": "view-in-github",
        "colab_type": "text"
      },
      "source": [
        "<a href=\"https://colab.research.google.com/github/ian3015/ian-khryw/blob/main/Untitled1.ipynb\" target=\"_parent\"><img src=\"https://colab.research.google.com/assets/colab-badge.svg\" alt=\"Open In Colab\"/></a>"
      ]
    },
    {
      "cell_type": "code",
      "execution_count": null,
      "metadata": {
        "id": "WR-2jClbDldU"
      },
      "outputs": [],
      "source": [
        "aluno= input('insira seu nome')\n",
        "nota1= float(input('primeira nota'))\n",
        "nota2= float(input('segunda nota'))\n",
        "media= (nota1+nota2)/2\n",
        "if media >=7:\n",
        "    situacao= ('aprovado')\n",
        "elif media >=5:\n",
        "    situacao= ('recuperação')\n",
        "else:\n",
        "    situacao= ('reprovado')\n",
        "print(f'o aluno {aluno} foi {situacao} com media {media}')"
      ]
    }
  ]
}