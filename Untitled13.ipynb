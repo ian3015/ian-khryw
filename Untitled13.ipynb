{
  "nbformat": 4,
  "nbformat_minor": 0,
  "metadata": {
    "colab": {
      "provenance": [],
      "authorship_tag": "ABX9TyP1+c6e+Ee+AL4pT8R/E7zr",
      "include_colab_link": true
    },
    "kernelspec": {
      "name": "python3",
      "display_name": "Python 3"
    },
    "language_info": {
      "name": "python"
    }
  },
  "cells": [
    {
      "cell_type": "markdown",
      "metadata": {
        "id": "view-in-github",
        "colab_type": "text"
      },
      "source": [
        "<a href=\"https://colab.research.google.com/github/ian3015/ian-khryw/blob/main/Untitled13.ipynb\" target=\"_parent\"><img src=\"https://colab.research.google.com/assets/colab-badge.svg\" alt=\"Open In Colab\"/></a>"
      ]
    },
    {
      "cell_type": "code",
      "execution_count": null,
      "metadata": {
        "id": "Ky3I4VEh8rwu"
      },
      "outputs": [],
      "source": [
        "dados_usuario = []\n",
        "r1 = 'sim'\n",
        "r2 = 'não'\n",
        "nome = input('qual o seu nome? ')\n",
        "print('''\n",
        "''')\n",
        "\n",
        "idade = input('quantos anos você tem? ')\n",
        "print('''\n",
        "''')\n",
        "\n",
        "dados_usuario.append(idade)\n",
        "dados_usuario.append(nome)\n",
        "ultima_pergunta = input('deseja conferir os seus dados? ')\n",
        "print('''\n",
        "''')\n",
        "\n",
        "if ultima_pergunta == True:\n",
        "  print(f'''  Seu nome é {nome}\n",
        "  Sua idade é {idade}.\n",
        "  esses são seus dados cadastrados''')\n",
        "else:\n",
        "  print(\"Dados cadastrados com sucesso\")\n",
        "\n",
        "  \n",
        "\n",
        "\n",
        "\n",
        "  \n",
        "\n",
        "\n"
      ]
    }
  ]
}